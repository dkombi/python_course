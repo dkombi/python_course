{
 "cells": [
  {
   "cell_type": "markdown",
   "id": "08f1c51f",
   "metadata": {
    "pycharm": {
     "name": "#%% md\n"
    }
   },
   "source": [
    "# Домашнє завдання до теми \"Python Basics\"\n",
    "В цьому ДЗ важливою умовою виконання завдань є те, що ми не імпортуємо жодних бібліотек, а робимо все на чистому Python, використовуючи лише базовий функціонал. Це необхідно аби відпрацювати роботу з базовими типами даних. А використовувати бібліотеки ми ще навчимось далі :)"
   ]
  },
  {
   "cell_type": "markdown",
   "id": "0f3e7772",
   "metadata": {
    "pycharm": {
     "name": "#%% md\n"
    }
   },
   "source": [
    "## Робота з числами та арифметичними операторами"
   ]
  },
  {
   "cell_type": "markdown",
   "id": "b2a2e2a5",
   "metadata": {
    "ExecuteTime": {
     "end_time": "2023-05-26T10:30:07.427381Z",
     "start_time": "2023-05-26T10:30:07.416247Z"
    }
   },
   "source": [
    "1.Створіть змінну, яка буде зберігати кількість яблук. І надайте їй значення 5. Виведіть значення змінної на екран."
   ]
  },
  {
   "cell_type": "code",
   "execution_count": null,
   "id": "c2b60bbe",
   "metadata": {
    "ExecuteTime": {
     "end_time": "2023-06-11T18:12:51.981366Z",
     "start_time": "2023-06-11T18:12:51.981366Z"
    }
   },
   "outputs": [],
   "source": [
    "apples = 5\n",
    "apples"
   ]
  },
  {
   "cell_type": "markdown",
   "id": "22291667",
   "metadata": {},
   "source": [
    "2.Виведіть тип змінної, створеної в завданні (1)."
   ]
  },
  {
   "cell_type": "code",
   "execution_count": null,
   "id": "7982a09a",
   "metadata": {
    "ExecuteTime": {
     "end_time": "2023-06-11T18:12:51.981366Z",
     "start_time": "2023-06-11T18:12:51.981366Z"
    }
   },
   "outputs": [],
   "source": [
    "print(type(apples))"
   ]
  },
  {
   "cell_type": "markdown",
   "id": "d43e1e57",
   "metadata": {},
   "source": [
    "3.Додайте до значення змінної, створеної в завданні (1) число `12` і виведіть результат на екран з допомогою команди `print()`."
   ]
  },
  {
   "cell_type": "code",
   "execution_count": null,
   "id": "42729777",
   "metadata": {
    "ExecuteTime": {
     "end_time": "2023-06-11T18:12:51.981366Z",
     "start_time": "2023-06-11T18:12:51.981366Z"
    }
   },
   "outputs": [],
   "source": [
    "print(apples+12)"
   ]
  },
  {
   "cell_type": "markdown",
   "id": "0be48f79",
   "metadata": {
    "pycharm": {
     "name": "#%% md\n"
    }
   },
   "source": [
    "4.Створіть змінні `a`, `b`, `c` та `d`, задайте їм значення відповідно 101, 210, 111, 402, та обчисліть з допомогою Python наступний вираз:  $$ \\frac{(a+b) * c}{d} $$\n",
    "\n",
    "**Важливо**: тут ми маємо обчислити значення саме з використанням змінних, а не просто чисел, як би ми робили у калькуряторі. Змінні потрібні аби за бажання ми могли змінити їх значення та не переписувати код обчислення виразу, бо він буде працювати для різних значень змінних."
   ]
  },
  {
   "cell_type": "code",
   "execution_count": null,
   "id": "9d7e1690",
   "metadata": {
    "ExecuteTime": {
     "end_time": "2023-06-11T18:12:51.989367Z",
     "start_time": "2023-06-11T18:12:51.989367Z"
    },
    "pycharm": {
     "name": "#%%\n"
    }
   },
   "outputs": [],
   "source": [
    "a= 101\n",
    "b= 210\n",
    "c= 111\n",
    "d= 402\n"
   ]
  },
  {
   "cell_type": "code",
   "execution_count": null,
   "id": "b1b34f00",
   "metadata": {
    "ExecuteTime": {
     "end_time": "2023-06-11T18:12:51.989367Z",
     "start_time": "2023-06-11T18:12:51.989367Z"
    }
   },
   "outputs": [],
   "source": [
    "f = ((a+b)* c)/d\n",
    "f"
   ]
  },
  {
   "cell_type": "markdown",
   "id": "b4183f4f",
   "metadata": {
    "pycharm": {
     "name": "#%% md\n"
    }
   },
   "source": [
    "Очікувана відповідь: 85.8731343283582"
   ]
  },
  {
   "cell_type": "markdown",
   "id": "1e9d3655",
   "metadata": {},
   "source": [
    "5.Якою буде остача від ділення числа 11283 на 89? Обчисліть з допомогою Python."
   ]
  },
  {
   "cell_type": "code",
   "execution_count": null,
   "id": "def00fa0",
   "metadata": {
    "ExecuteTime": {
     "end_time": "2023-06-11T18:12:51.989367Z",
     "start_time": "2023-06-11T18:12:51.989367Z"
    }
   },
   "outputs": [],
   "source": [
    "diff = 11283%89\n",
    "print(diff)"
   ]
  },
  {
   "cell_type": "markdown",
   "id": "bd2491e2",
   "metadata": {},
   "source": [
    "6.Скільки цілих разів поміститься число 89 в 11283? (Або що те саме: який буде результат цілочисельного ділення 11283 на 89?)"
   ]
  },
  {
   "cell_type": "code",
   "execution_count": null,
   "id": "02e0c7b3",
   "metadata": {
    "ExecuteTime": {
     "end_time": "2023-06-11T18:12:51.997367Z",
     "start_time": "2023-06-11T18:12:51.997367Z"
    }
   },
   "outputs": [],
   "source": [
    "11283//89"
   ]
  },
  {
   "cell_type": "markdown",
   "id": "676db6ee",
   "metadata": {
    "ExecuteTime": {
     "end_time": "2022-10-15T22:38:58.278123Z",
     "start_time": "2022-10-15T22:38:58.274895Z"
    },
    "pycharm": {
     "name": "#%% md\n"
    }
   },
   "source": [
    "# Робота з рядками"
   ]
  },
  {
   "cell_type": "markdown",
   "id": "60423850",
   "metadata": {
    "pycharm": {
     "name": "#%% md\n"
    }
   },
   "source": [
    "7.Запишіть у змінну `name` ваше імʼя."
   ]
  },
  {
   "cell_type": "code",
   "execution_count": 1,
   "id": "473006f4",
   "metadata": {
    "ExecuteTime": {
     "end_time": "2023-06-11T18:12:52.021369Z",
     "start_time": "2023-06-11T18:12:52.013369Z"
    },
    "pycharm": {
     "name": "#%%\n"
    }
   },
   "outputs": [],
   "source": [
    "name = 'Denys'"
   ]
  },
  {
   "cell_type": "markdown",
   "id": "4b3acd9d",
   "metadata": {
    "pycharm": {
     "name": "#%% md\n"
    }
   },
   "source": [
    "8.Запишіть у змінну `surname` ваше прізвище."
   ]
  },
  {
   "cell_type": "code",
   "execution_count": 2,
   "id": "c5defe1b",
   "metadata": {
    "ExecuteTime": {
     "end_time": "2023-06-11T18:12:52.045474Z",
     "start_time": "2023-06-11T18:12:52.031421Z"
    },
    "pycharm": {
     "name": "#%%\n"
    }
   },
   "outputs": [],
   "source": [
    "surname ='Komar'"
   ]
  },
  {
   "cell_type": "markdown",
   "id": "ab162f8e",
   "metadata": {
    "pycharm": {
     "name": "#%% md\n"
    }
   },
   "source": [
    "9.Сконкатенуйте імʼя та прізвище в одну фразу через пробіл. Запишіть результат у нову змінну `name_surname` та виведіть результат на екран.  "
   ]
  },
  {
   "cell_type": "code",
   "execution_count": 3,
   "id": "522d3253",
   "metadata": {
    "ExecuteTime": {
     "end_time": "2023-06-11T18:12:52.061653Z",
     "start_time": "2023-06-11T18:12:52.045632Z"
    },
    "pycharm": {
     "name": "#%%\n"
    }
   },
   "outputs": [
    {
     "name": "stdout",
     "output_type": "stream",
     "text": [
      "Denys Komar\n"
     ]
    }
   ],
   "source": [
    "name_surname = name + \" \" + surname\n",
    "print(name_surname)"
   ]
  },
  {
   "cell_type": "markdown",
   "id": "77e679dd",
   "metadata": {
    "pycharm": {
     "name": "#%% md\n"
    }
   },
   "source": [
    "Очікувана відповідь (тільки з вашими даними): 'Hanna Pylieva' "
   ]
  },
  {
   "cell_type": "markdown",
   "id": "e68adcf7",
   "metadata": {
    "pycharm": {
     "name": "#%% md\n"
    }
   },
   "source": [
    "10.Зробіть усі літери змінної `name_surname` заглавними використовуючи метод рядків в Python:"
   ]
  },
  {
   "cell_type": "code",
   "execution_count": 4,
   "id": "1047cda3",
   "metadata": {
    "ExecuteTime": {
     "end_time": "2023-06-11T18:12:52.093660Z",
     "start_time": "2023-06-11T18:12:52.077654Z"
    },
    "pycharm": {
     "name": "#%%\n"
    }
   },
   "outputs": [
    {
     "name": "stdout",
     "output_type": "stream",
     "text": [
      "DENYS KOMAR\n"
     ]
    }
   ],
   "source": [
    "print(name_surname.upper())"
   ]
  },
  {
   "cell_type": "markdown",
   "id": "20a20420",
   "metadata": {
    "pycharm": {
     "name": "#%% md\n"
    }
   },
   "source": [
    "Очікувана відповідь (тільки з вашими даними): 'HANNA PYLIEVA'"
   ]
  },
  {
   "cell_type": "markdown",
   "id": "e7e1c7ae",
   "metadata": {
    "pycharm": {
     "name": "#%% md\n"
    }
   },
   "source": [
    "11.Виведіть третю літеру вашого `name_surname`. Тут уважно, треба саме третя літера. Згадайте, з якого значення починається індексування значень в Python."
   ]
  },
  {
   "cell_type": "code",
   "execution_count": 5,
   "id": "191baf85",
   "metadata": {
    "ExecuteTime": {
     "end_time": "2023-06-11T18:12:52.157776Z",
     "start_time": "2023-06-11T18:12:52.133748Z"
    },
    "pycharm": {
     "name": "#%%\n"
    }
   },
   "outputs": [
    {
     "data": {
      "text/plain": [
       "'n'"
      ]
     },
     "execution_count": 5,
     "metadata": {},
     "output_type": "execute_result"
    }
   ],
   "source": [
    "name_surname[2]"
   ]
  },
  {
   "cell_type": "markdown",
   "id": "181c489d",
   "metadata": {
    "pycharm": {
     "name": "#%% md\n"
    }
   },
   "source": [
    "Очікувана відповідь (тільки з вашими даними): 'n'"
   ]
  },
  {
   "cell_type": "markdown",
   "id": "1f3cc1a7",
   "metadata": {
    "pycharm": {
     "name": "#%% md\n"
    }
   },
   "source": [
    "12.Виведіть першу та останню літеру вашого прізвища."
   ]
  },
  {
   "cell_type": "code",
   "execution_count": 6,
   "id": "1a4ffd8b",
   "metadata": {
    "ExecuteTime": {
     "end_time": "2023-06-11T18:12:52.189779Z",
     "start_time": "2023-06-11T18:12:52.173776Z"
    },
    "pycharm": {
     "name": "#%%\n"
    }
   },
   "outputs": [
    {
     "name": "stdout",
     "output_type": "stream",
     "text": [
      "K r\n"
     ]
    }
   ],
   "source": [
    "print(surname[0],surname[-1])"
   ]
  },
  {
   "cell_type": "markdown",
   "id": "df1b4a52",
   "metadata": {
    "pycharm": {
     "name": "#%% md\n"
    }
   },
   "source": [
    "Очікувана відповідь (тільки з вашими даними): ('P', 'a')"
   ]
  },
  {
   "cell_type": "markdown",
   "id": "0ad4f21f",
   "metadata": {
    "pycharm": {
     "name": "#%% md\n"
    }
   },
   "source": [
    "13.Виведіть довжину вашого прізвища."
   ]
  },
  {
   "cell_type": "code",
   "execution_count": 7,
   "id": "8aadf013",
   "metadata": {
    "ExecuteTime": {
     "end_time": "2023-06-11T18:12:52.229797Z",
     "start_time": "2023-06-11T18:12:52.213781Z"
    },
    "pycharm": {
     "name": "#%%\n"
    }
   },
   "outputs": [
    {
     "data": {
      "text/plain": [
       "5"
      ]
     },
     "execution_count": 7,
     "metadata": {},
     "output_type": "execute_result"
    }
   ],
   "source": [
    "len(surname)"
   ]
  },
  {
   "cell_type": "markdown",
   "id": "ec1a8d38",
   "metadata": {
    "pycharm": {
     "name": "#%% md\n"
    }
   },
   "source": [
    "Очікувана відповідь (тільки з вашими даними): 7"
   ]
  },
  {
   "cell_type": "markdown",
   "id": "fc4ee632",
   "metadata": {
    "pycharm": {
     "name": "#%% md\n"
    }
   },
   "source": [
    "14.Виведіть кількість літер `a` у столиці Мадагаскару `Antananarivo`. Важливо врахувати всі літери, як великі, так і маленькі."
   ]
  },
  {
   "cell_type": "code",
   "execution_count": 8,
   "id": "4c83c237",
   "metadata": {
    "ExecuteTime": {
     "end_time": "2023-06-11T18:12:52.261877Z",
     "start_time": "2023-06-11T18:12:52.245875Z"
    },
    "pycharm": {
     "name": "#%%\n"
    }
   },
   "outputs": [
    {
     "ename": "SyntaxError",
     "evalue": "invalid syntax (2062595513.py, line 3)",
     "output_type": "error",
     "traceback": [
      "\u001b[1;36m  File \u001b[1;32m\"C:\\Users\\Denys\\AppData\\Local\\Temp\\ipykernel_60472\\2062595513.py\"\u001b[1;36m, line \u001b[1;32m3\u001b[0m\n\u001b[1;33m    capital_new.count('A')b\u001b[0m\n\u001b[1;37m                          ^\u001b[0m\n\u001b[1;31mSyntaxError\u001b[0m\u001b[1;31m:\u001b[0m invalid syntax\n"
     ]
    }
   ],
   "source": [
    "capital ='Antananarivo'\n",
    "capital_new =capital.upper()\n",
    "capital_new.count('A')b"
   ]
  },
  {
   "cell_type": "code",
   "execution_count": null,
   "id": "8340b40d",
   "metadata": {
    "ExecuteTime": {
     "end_time": "2023-06-11T18:12:52.261877Z",
     "start_time": "2023-06-11T18:12:52.261877Z"
    }
   },
   "outputs": [],
   "source": [
    "a =list(capital.lower())\n",
    "a.count('a')"
   ]
  },
  {
   "cell_type": "markdown",
   "id": "3b822954",
   "metadata": {
    "pycharm": {
     "name": "#%% md\n"
    }
   },
   "source": [
    "Очікувана відповідь: 4"
   ]
  },
  {
   "cell_type": "markdown",
   "id": "3d7ff9aa",
   "metadata": {
    "ExecuteTime": {
     "end_time": "2023-05-28T22:53:18.824389Z",
     "start_time": "2023-05-28T22:53:18.816117Z"
    }
   },
   "source": [
    "15.Створіть рядок `my_string` зі значенням: \"The quick brown fox jumps over the lazy dog!!!\".   \n",
    "Перевірте, чи починається рядок `my_string` з \"The\" і чи закінчується він \"dog!\". Виведіть результати на екран."
   ]
  },
  {
   "cell_type": "code",
   "execution_count": 9,
   "id": "00c6af56",
   "metadata": {
    "ExecuteTime": {
     "end_time": "2023-06-11T18:12:52.309882Z",
     "start_time": "2023-06-11T18:12:52.285879Z"
    }
   },
   "outputs": [
    {
     "data": {
      "text/plain": [
       "True"
      ]
     },
     "metadata": {},
     "output_type": "display_data"
    },
    {
     "data": {
      "text/plain": [
       "False"
      ]
     },
     "metadata": {},
     "output_type": "display_data"
    }
   ],
   "source": [
    "my_string=\"The quick brown fox jumps over the lazy dog!!!\"\n",
    "a = my_string.startswith('The')\n",
    "b = my_string.endswith('dog')\n",
    "display(a,b)"
   ]
  },
  {
   "cell_type": "markdown",
   "id": "49725d46",
   "metadata": {},
   "source": [
    "16.Розділіть рядок `my_string` на список слів, а потім з'єднайте всі слова через нижнє підкреслювання. Виведіть результат на екран."
   ]
  },
  {
   "cell_type": "code",
   "execution_count": 10,
   "id": "13e3d90a",
   "metadata": {
    "ExecuteTime": {
     "end_time": "2023-06-11T18:12:52.325909Z",
     "start_time": "2023-06-11T18:12:52.309882Z"
    }
   },
   "outputs": [
    {
     "name": "stdout",
     "output_type": "stream",
     "text": [
      "The_quick_brown_fox_jumps_over_the_lazy_dog!!!\n"
     ]
    }
   ],
   "source": [
    "words = my_string.split()\n",
    "print(\"_\".join(words))"
   ]
  },
  {
   "cell_type": "markdown",
   "id": "5803bd7c",
   "metadata": {},
   "source": [
    "Очікуваний результат: `The_quick_brown_fox_jumps_over_the_lazy_dog!!!`"
   ]
  },
  {
   "cell_type": "markdown",
   "id": "8365109c",
   "metadata": {
    "pycharm": {
     "name": "#%% md\n"
    }
   },
   "source": [
    "# Робота зі колекціями"
   ]
  },
  {
   "cell_type": "markdown",
   "id": "efd4a344",
   "metadata": {
    "pycharm": {
     "name": "#%% md\n"
    }
   },
   "source": [
    "У нас є наступний список:"
   ]
  },
  {
   "cell_type": "code",
   "execution_count": 11,
   "id": "33f9a114",
   "metadata": {
    "ExecuteTime": {
     "end_time": "2023-06-11T18:12:52.373993Z",
     "start_time": "2023-06-11T18:12:52.349990Z"
    },
    "pycharm": {
     "name": "#%%\n"
    }
   },
   "outputs": [],
   "source": [
    "my_list = [\n",
    "    78, 12, 14, 27, 47, 28, 51, 46, 94, 37, 42, 20, 52, 33, 11, 11, 51,\n",
    "    20, 81, 54, 86, 51, 38, 42, 49, 99, 76, 17,  9, 23, 97, 29, 29, 63,\n",
    "    40, 11, 31, 76, 15, 21, 29, 75, 35,  2, 10, 71, 17, 10, 13,  7, 44,\n",
    "    12, 19, 61, 13, 25, 62, 46, 10, 44, 75, 57, 20, 57,  3, 44, 16, 28,\n",
    "    79, 57, 62, 70, 95,  8, 47, 82, 80, 45, 36, 44, 79, 95, 73, 42, 29,\n",
    "    83, 80, 66, 56,  8, 73,  5, 99, 65, 65, 98, 17, 36, 16, 60\n",
    "]"
   ]
  },
  {
   "cell_type": "markdown",
   "id": "77d55ecf",
   "metadata": {
    "pycharm": {
     "name": "#%% md\n"
    }
   },
   "source": [
    "Будемо з ним працювати в наступних завданнях."
   ]
  },
  {
   "cell_type": "markdown",
   "id": "7a9d114b",
   "metadata": {
    "pycharm": {
     "name": "#%% md\n"
    }
   },
   "source": [
    "17.Виведіть 5 перших елементів списку `my_list` з допомогою слайсингу."
   ]
  },
  {
   "cell_type": "code",
   "execution_count": 12,
   "id": "1a6e26e9",
   "metadata": {
    "ExecuteTime": {
     "end_time": "2023-06-11T18:12:52.389995Z",
     "start_time": "2023-06-11T18:12:52.381994Z"
    },
    "pycharm": {
     "name": "#%%\n"
    }
   },
   "outputs": [
    {
     "data": {
      "text/plain": [
       "[78, 12, 14, 27, 47]"
      ]
     },
     "execution_count": 12,
     "metadata": {},
     "output_type": "execute_result"
    }
   ],
   "source": [
    "my_list[:5]"
   ]
  },
  {
   "cell_type": "markdown",
   "id": "0c995ae4",
   "metadata": {
    "pycharm": {
     "name": "#%% md\n"
    }
   },
   "source": [
    "Очікувана відповідь: [78, 12, 14, 27, 47]"
   ]
  },
  {
   "cell_type": "markdown",
   "id": "3cd8551a",
   "metadata": {
    "ExecuteTime": {
     "end_time": "2023-05-28T22:46:26.546845Z",
     "start_time": "2023-05-28T22:46:26.540558Z"
    }
   },
   "source": [
    "18.Виведіть 3 останніх елементи списку `my_list` з допомогою слайсингу."
   ]
  },
  {
   "cell_type": "code",
   "execution_count": 13,
   "id": "1f19fd19",
   "metadata": {
    "ExecuteTime": {
     "end_time": "2023-06-11T18:12:52.432052Z",
     "start_time": "2023-06-11T18:12:52.413997Z"
    }
   },
   "outputs": [
    {
     "data": {
      "text/plain": [
       "[36, 16, 60]"
      ]
     },
     "execution_count": 13,
     "metadata": {},
     "output_type": "execute_result"
    }
   ],
   "source": [
    "my_list[-3:]"
   ]
  },
  {
   "cell_type": "markdown",
   "id": "58a98ef0",
   "metadata": {
    "pycharm": {
     "name": "#%% md\n"
    }
   },
   "source": [
    "19.Виведіть максимальний і мінімальний елемент у списку. Сформуйте відповідь у наступному форматі\n",
    "```\n",
    "Max element  <число>\n",
    "Max element  <число>\n",
    "```"
   ]
  },
  {
   "cell_type": "code",
   "execution_count": 14,
   "id": "008f459c",
   "metadata": {
    "ExecuteTime": {
     "end_time": "2023-06-11T18:12:52.446104Z",
     "start_time": "2023-06-11T18:12:52.432052Z"
    },
    "pycharm": {
     "name": "#%%\n"
    }
   },
   "outputs": [
    {
     "name": "stdout",
     "output_type": "stream",
     "text": [
      "Max element 99\n",
      "Min element 2\n"
     ]
    }
   ],
   "source": [
    "print('Max element',max(my_list))\n",
    "print('Min element',min(my_list))"
   ]
  },
  {
   "cell_type": "markdown",
   "id": "c19c1cf7",
   "metadata": {
    "pycharm": {
     "name": "#%% md\n"
    }
   },
   "source": [
    "Очікувана відповідь: \n",
    "\n",
    "```\n",
    "Max element  99\n",
    "Max element  2\n",
    "```"
   ]
  },
  {
   "cell_type": "markdown",
   "id": "4e43e698",
   "metadata": {
    "pycharm": {
     "name": "#%% md\n"
    }
   },
   "source": [
    "20.Створіть новий список `my_list_2`, який містить кожен 11-й елемент списку `my_list`. Виведіть `my_list_2` на екран.  \n",
    "Памʼятаємо, що перший з \"кожного одинадцятого улементу\" списку має індекс 10.\n",
    "Це завдання можна виконати як з використанням циклів, так і з використанням слайсингу."
   ]
  },
  {
   "cell_type": "code",
   "execution_count": 15,
   "id": "5b4c4729",
   "metadata": {
    "ExecuteTime": {
     "end_time": "2023-06-11T18:12:52.462106Z",
     "start_time": "2023-06-11T18:12:52.446104Z"
    },
    "pycharm": {
     "name": "#%%\n"
    }
   },
   "outputs": [
    {
     "data": {
      "text/plain": [
       "[42, 51, 29, 2, 13, 44, 80, 66, 16]"
      ]
     },
     "execution_count": 15,
     "metadata": {},
     "output_type": "execute_result"
    }
   ],
   "source": [
    "my_list_2 = my_list[10::11]\n",
    "my_list_2"
   ]
  },
  {
   "cell_type": "markdown",
   "id": "0c734831",
   "metadata": {
    "ExecuteTime": {
     "end_time": "2023-01-20T20:10:37.303981Z",
     "start_time": "2023-01-20T20:10:37.275706Z"
    },
    "pycharm": {
     "name": "#%%\n"
    }
   },
   "source": [
    "Очікуваний результат: `[42, 51, 29, 2, 13, 44, 80, 66, 16]`"
   ]
  },
  {
   "cell_type": "markdown",
   "id": "60fab123",
   "metadata": {},
   "source": [
    "## ВИ - МОЛОДЕЦЬ! ЗРОБИЛИ 20 ЗАВДАНЬ!\n",
    "Далі завдання будуть трохи складніше. Деколи в завданнях треба буде написати цикл або list comprehension. Але я впевнена, що у Вас все вийде!"
   ]
  },
  {
   "cell_type": "markdown",
   "id": "fca24ff1",
   "metadata": {
    "pycharm": {
     "name": "#%% md\n"
    }
   },
   "source": [
    "21.Створіть новий список `my_list_2_squared`, де кожен елемент списку `my_list_2` є піднесеним до степіня 2. "
   ]
  },
  {
   "cell_type": "code",
   "execution_count": 16,
   "id": "e29f5e82",
   "metadata": {
    "ExecuteTime": {
     "end_time": "2023-06-11T18:12:52.510111Z",
     "start_time": "2023-06-11T18:12:52.502112Z"
    }
   },
   "outputs": [
    {
     "data": {
      "text/plain": [
       "[1764, 2601, 841, 4, 169, 1936, 6400, 4356, 256]"
      ]
     },
     "execution_count": 16,
     "metadata": {},
     "output_type": "execute_result"
    }
   ],
   "source": [
    "my_list_2_squared = [el**2 for el in my_list_2 ]\n",
    "my_list_2_squared"
   ]
  },
  {
   "cell_type": "markdown",
   "id": "0dce0d8e",
   "metadata": {
    "pycharm": {
     "name": "#%% md\n"
    }
   },
   "source": [
    "Очікуваний результат: `[1764, 2601, 841, 4, 169, 1936, 6400, 4356, 256]`"
   ]
  },
  {
   "cell_type": "markdown",
   "id": "c267a553",
   "metadata": {
    "pycharm": {
     "name": "#%% md\n"
    }
   },
   "source": [
    "22.Знайдіть суму всіх елементів списку `my_list_2` та виведіть її на екран."
   ]
  },
  {
   "cell_type": "code",
   "execution_count": 17,
   "id": "7f37b29f",
   "metadata": {
    "ExecuteTime": {
     "end_time": "2023-06-11T18:12:52.558776Z",
     "start_time": "2023-06-11T18:12:52.534749Z"
    },
    "pycharm": {
     "name": "#%%\n"
    }
   },
   "outputs": [
    {
     "data": {
      "text/plain": [
       "343"
      ]
     },
     "execution_count": 17,
     "metadata": {},
     "output_type": "execute_result"
    }
   ],
   "source": [
    "sum(my_list_2)"
   ]
  },
  {
   "cell_type": "markdown",
   "id": "b12acfc2",
   "metadata": {
    "pycharm": {
     "name": "#%% md\n"
    }
   },
   "source": [
    "23.Знайдіть середнє значення елементів списку `my_list_2`, збережіть результат у змінну `my_list_2_mean`. Виведіть новостворену змінну та ії тип на екран.\n",
    "**Підказка**: середнє значення - це сума елементів поділена на їх кількість. А кількість елементів в списку - це його довжина."
   ]
  },
  {
   "cell_type": "code",
   "execution_count": 18,
   "id": "51fbb32b",
   "metadata": {
    "ExecuteTime": {
     "end_time": "2023-06-11T18:12:52.574779Z",
     "start_time": "2023-06-11T18:12:52.558776Z"
    },
    "pycharm": {
     "name": "#%%\n"
    }
   },
   "outputs": [
    {
     "data": {
      "text/plain": [
       "38.111111111111114"
      ]
     },
     "metadata": {},
     "output_type": "display_data"
    },
    {
     "data": {
      "text/plain": [
       "float"
      ]
     },
     "metadata": {},
     "output_type": "display_data"
    }
   ],
   "source": [
    "my_list_2_mean = sum(my_list_2)/len(my_list_2)\n",
    "display(my_list_2_mean,type(my_list_2_mean))"
   ]
  },
  {
   "cell_type": "markdown",
   "id": "079359aa",
   "metadata": {
    "pycharm": {
     "name": "#%% md\n"
    }
   },
   "source": [
    "24.Створіть новий список `my_list_2_gt_mean`, за наступним правилом: \"якщо цей елемент спиcку `my_list_2` є більше за `my_list_2_mean`, то запишемо 1, інакше 0. Виведіть новий список на екран."
   ]
  },
  {
   "cell_type": "code",
   "execution_count": 19,
   "id": "6e69be6f",
   "metadata": {
    "ExecuteTime": {
     "end_time": "2023-06-11T18:12:52.590780Z",
     "start_time": "2023-06-11T18:12:52.574779Z"
    },
    "pycharm": {
     "name": "#%%\n"
    }
   },
   "outputs": [
    {
     "data": {
      "text/plain": [
       "[1, 1, 0, 0, 0, 1, 1, 1, 0]"
      ]
     },
     "execution_count": 19,
     "metadata": {},
     "output_type": "execute_result"
    }
   ],
   "source": [
    "my_list_2_gt_mean =[]\n",
    "for el in my_list_2:\n",
    "    if el>my_list_2_mean:\n",
    "        my_list_2_gt_mean.append(1)\n",
    "    else: \n",
    "        my_list_2_gt_mean.append(0) \n",
    "my_list_2_gt_mean        "
   ]
  },
  {
   "cell_type": "markdown",
   "id": "3079f1e6",
   "metadata": {},
   "source": [
    "Очікуваний результат: `[1, 1, 0, 0, 0, 1, 1, 1, 0]`"
   ]
  },
  {
   "cell_type": "markdown",
   "id": "eef1aae7",
   "metadata": {
    "pycharm": {
     "name": "#%% md\n"
    }
   },
   "source": [
    "25.Чи є в списку `my_list` елементи, які повторюються? Перевірте це програмно і з допомогою інструкцій `if ... else` виведіть на екран відповідь \"Так, є елементи, які повторюються\", або \"Ні, всі елементи унікальні\".\n",
    "Важливо це зробити без використання імпортів будь-яких бібліотек, на чистому Python так би мовити."
   ]
  },
  {
   "cell_type": "code",
   "execution_count": 20,
   "id": "766170f3",
   "metadata": {
    "ExecuteTime": {
     "end_time": "2023-06-11T18:12:52.630809Z",
     "start_time": "2023-06-11T18:12:52.614781Z"
    },
    "pycharm": {
     "name": "#%%\n"
    },
    "scrolled": true
   },
   "outputs": [
    {
     "name": "stdout",
     "output_type": "stream",
     "text": [
      "[2, 3, 5, 7, 8, 8, 9, 10, 10, 10, 11, 11, 11, 12, 12, 13, 13, 14, 15, 16, 16, 17, 17, 17, 19, 20, 20, 20, 21, 23, 25, 27, 28, 28, 29, 29, 29, 29, 31, 33, 35, 36, 36, 37, 38, 40, 42, 42, 42, 44, 44, 44, 44, 45, 46, 46, 47, 47, 49, 51, 51, 51, 52, 54, 56, 57, 57, 57, 60, 61, 62, 62, 63, 65, 65, 66, 70, 71, 73, 73, 75, 75, 76, 76, 78, 79, 79, 80, 80, 81, 82, 83, 86, 94, 95, 95, 97, 98, 99, 99]\n"
     ]
    }
   ],
   "source": [
    "my_list.sort()\n",
    "print(my_list)"
   ]
  },
  {
   "cell_type": "code",
   "execution_count": 21,
   "id": "6e9e122d",
   "metadata": {
    "ExecuteTime": {
     "end_time": "2023-06-11T18:12:52.662893Z",
     "start_time": "2023-06-11T18:12:52.632837Z"
    },
    "scrolled": true
   },
   "outputs": [
    {
     "name": "stdout",
     "output_type": "stream",
     "text": [
      "{2, 3, 5, 7, 8, 9, 10, 11, 12, 13, 14, 15, 16, 17, 19, 20, 21, 23, 25, 27, 28, 29, 31, 33, 35, 36, 37, 38, 40, 42, 44, 45, 46, 47, 49, 51, 52, 54, 56, 57, 60, 61, 62, 63, 65, 66, 70, 71, 73, 75, 76, 78, 79, 80, 81, 82, 83, 86, 94, 95, 97, 98, 99}\n"
     ]
    }
   ],
   "source": [
    "new_set = set(my_list)\n",
    "print(new_set)"
   ]
  },
  {
   "cell_type": "code",
   "execution_count": 22,
   "id": "19829bff",
   "metadata": {
    "ExecuteTime": {
     "end_time": "2023-06-11T18:12:52.694896Z",
     "start_time": "2023-06-11T18:12:52.670895Z"
    }
   },
   "outputs": [
    {
     "data": {
      "text/plain": [
       "(100, 63)"
      ]
     },
     "execution_count": 22,
     "metadata": {},
     "output_type": "execute_result"
    }
   ],
   "source": [
    "len(my_list),len(new_set)"
   ]
  },
  {
   "cell_type": "code",
   "execution_count": 23,
   "id": "8ed23844",
   "metadata": {
    "ExecuteTime": {
     "end_time": "2023-06-11T18:12:52.710900Z",
     "start_time": "2023-06-11T18:12:52.694896Z"
    },
    "scrolled": true
   },
   "outputs": [
    {
     "name": "stdout",
     "output_type": "stream",
     "text": [
      "Є повторюючіся значення в списку.\n"
     ]
    }
   ],
   "source": [
    "if len(my_list)!= len(set(my_list)):\n",
    "    print(\"Є повторюючіся значення в списку.\")\n",
    "else:\n",
    "    print(\"Немає повторюючихся значень в списку.\")\n"
   ]
  },
  {
   "cell_type": "markdown",
   "id": "cee3dda8",
   "metadata": {
    "pycharm": {
     "name": "#%% md\n"
    }
   },
   "source": [
    "26.Для кожного унікального елементу списку `my_list` знайдіть, скільки разів він повторюється, та запишіть сукупний результат для всіх елементів (тобто скільки разів повторюється кожен елемент) у змінну `n_repeats`. Виведіть `n_repeats` на екран. \n",
    "\n",
    "**Підказка**: `n_repeats` матиме тип \"словник\". Порядок ключів в словнику не має значення! Тобто ключі в словнику не обовʼязково мають бути в тому ж порядку, як наведено в прикладі результату. Але кількості зустрічань для кожного елемента мають співпадати з наведеними. "
   ]
  },
  {
   "cell_type": "code",
   "execution_count": 25,
   "id": "129111b7",
   "metadata": {
    "ExecuteTime": {
     "end_time": "2023-06-11T18:13:19.854494Z",
     "start_time": "2023-06-11T18:13:19.835835Z"
    },
    "pycharm": {
     "name": "#%%\n"
    }
   },
   "outputs": [
    {
     "name": "stdout",
     "output_type": "stream",
     "text": [
      "{2: 1, 3: 1, 5: 1, 7: 1, 8: 2, 9: 1, 10: 3, 11: 3, 12: 2, 13: 2, 14: 1, 15: 1, 16: 2, 17: 3, 19: 1, 20: 3, 21: 1, 23: 1, 25: 1, 27: 1, 28: 2, 29: 4, 31: 1, 33: 1, 35: 1, 36: 2, 37: 1, 38: 1, 40: 1, 42: 3, 44: 4, 45: 1, 46: 2, 47: 2, 49: 1, 51: 3, 52: 1, 54: 1, 56: 1, 57: 3, 60: 1, 61: 1, 62: 2, 63: 1, 65: 2, 66: 1, 70: 1, 71: 1, 73: 2, 75: 2, 76: 2, 78: 1, 79: 2, 80: 2, 81: 1, 82: 1, 83: 1, 86: 1, 94: 1, 95: 2, 97: 1, 98: 1, 99: 2}\n"
     ]
    }
   ],
   "source": [
    "n_repeats ={}\n",
    "\n",
    "for item in my_list:\n",
    "    if item in n_repeats:\n",
    "        n_repeats[item] += 1\n",
    "    else:\n",
    "        n_repeats[item] = 1\n",
    "\n",
    "print(n_repeats)"
   ]
  },
  {
   "cell_type": "markdown",
   "id": "9858eefd",
   "metadata": {
    "pycharm": {
     "name": "#%% md\n"
    }
   },
   "source": [
    "Очікуваний результат (три крапки - для скорочення, у вас буде виведений повний набір унікальних елементів): \n",
    "```\n",
    "{2: 1, 3: 1, 5: 1, 7: 1, 8: 2, 9: 1, 10: 3, 11: 3, 12: 2, 13: 2, 14: 1, 15: 1, 16: 2, 17: 3, 19: 1, 20: 3, 21: 1, 23: 1, 25: 1, 27: 1, 28: 2, 29: 4, 31: 1, 33: 1, 35: 1, 36: 2, 37: 1, 38: 1, 40: 1, 42: 3, 44: 4, 45: 1, 46: 2, 47: 2, 49: 1, 51: 3, 52: 1, 54: 1, 56: 1, 57: 3, 60: 1, 61: 1, 62: 2, 63: 1, 65: 2, 66: 1, 70: 1, 71: 1, 73: 2, 75: 2, 76: 2, 78: 1, 79: 2, 80: 2, 81: 1, 82: 1, 83: 1, 86: 1, 94: 1, 95: 2, 97: 1, 98: 1, 99: 2}\n",
    "```"
   ]
  },
  {
   "cell_type": "markdown",
   "id": "10c98ea7",
   "metadata": {
    "pycharm": {
     "name": "#%% md\n"
    }
   },
   "source": [
    "27.Знайдіть три найменші **унікальні** елементи в списку `my_list`. Збережіть знайдені елементи в змінну `least_3_my_list`. Виведіть значення змінної `least_3_my_list` на екран."
   ]
  },
  {
   "cell_type": "code",
   "execution_count": 44,
   "id": "8cabdfc7",
   "metadata": {
    "ExecuteTime": {
     "end_time": "2023-06-11T18:28:03.763165Z",
     "start_time": "2023-06-11T18:28:03.749613Z"
    },
    "pycharm": {
     "name": "#%%\n"
    },
    "scrolled": true
   },
   "outputs": [
    {
     "name": "stdout",
     "output_type": "stream",
     "text": [
      "[2, 3, 5, 7, 8, 9, 10, 11, 12, 13, 14, 15, 16, 17, 19, 20, 21, 23, 25, 27, 28, 29, 31, 33, 35, 36, 37, 38, 40, 42, 44, 45, 46, 47, 49, 51, 52, 54, 56, 57, 60, 61, 62, 63, 65, 66, 70, 71, 73, 75, 76, 78, 79, 80, 81, 82, 83, 86, 94, 95, 97, 98, 99]\n"
     ]
    }
   ],
   "source": [
    "least_3_my_list =list(n_repeats.keys())\n",
    "least_3_my_list.sort()\n",
    "print(least_3_my_list)"
   ]
  },
  {
   "cell_type": "code",
   "execution_count": 45,
   "id": "ffccb41a",
   "metadata": {
    "ExecuteTime": {
     "end_time": "2023-06-11T18:28:06.220747Z",
     "start_time": "2023-06-11T18:28:06.206269Z"
    }
   },
   "outputs": [
    {
     "data": {
      "text/plain": [
       "[2, 3, 5]"
      ]
     },
     "execution_count": 45,
     "metadata": {},
     "output_type": "execute_result"
    }
   ],
   "source": [
    "least_3_my_list[:3]"
   ]
  },
  {
   "cell_type": "markdown",
   "id": "672d2981",
   "metadata": {
    "pycharm": {
     "name": "#%% md\n"
    }
   },
   "source": [
    "Очікувана відповідь: [2, 3, 5]\n"
   ]
  },
  {
   "cell_type": "markdown",
   "id": "bb70f24a",
   "metadata": {
    "pycharm": {
     "name": "#%% md\n"
    }
   },
   "source": [
    "# Ураа!! Ви завершили перше домашнє завдання!!!  \n",
    "Аби здати ДЗ - залийте ноутбук у гітхаб репозиторій, який ви створили у перші дні навчання на курсі, та додайте посилання на файл у відповідному завданні в Eduflow.\n",
    "Так тримати! 🚀🚀🚀"
   ]
  }
 ],
 "metadata": {
  "kernelspec": {
   "display_name": "Python 3 (ipykernel)",
   "language": "python",
   "name": "python3"
  },
  "language_info": {
   "codemirror_mode": {
    "name": "ipython",
    "version": 3
   },
   "file_extension": ".py",
   "mimetype": "text/x-python",
   "name": "python",
   "nbconvert_exporter": "python",
   "pygments_lexer": "ipython3",
   "version": "3.7.5"
  },
  "toc": {
   "base_numbering": 1,
   "nav_menu": {},
   "number_sections": true,
   "sideBar": true,
   "skip_h1_title": false,
   "title_cell": "Table of Contents",
   "title_sidebar": "Contents",
   "toc_cell": false,
   "toc_position": {},
   "toc_section_display": true,
   "toc_window_display": false
  }
 },
 "nbformat": 4,
 "nbformat_minor": 5
}
